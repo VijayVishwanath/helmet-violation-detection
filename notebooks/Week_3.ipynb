{
 "cells": [
  {
   "cell_type": "markdown",
   "metadata": {
    "button": false,
    "new_sheet": false,
    "run_control": {
     "read_only": false
    }
   },
   "source": [
    "\n",
    "<h1 align=center><font size = 5>CAPSTONE PROJECT</font></h1>\n",
    "<h2 align=center><font size = 5>AIML Certification Programme</font></h2>"
   ]
  },
  {
   "cell_type": "markdown",
   "metadata": {},
   "source": [
    "\n",
    "\n",
    "## Student Name and ID:\n",
    "Mention your name and ID if done individually<br>\n",
    "If done as a group,clearly mention the contribution from each group member qualitatively and as a precentage.<br>\n",
    "1. KUNA MURALI (ID: 2024AIML030)                          \n",
    "\n",
    "2. MADIRE MAHESHKUMAR (ID: 2024AIML079)\n",
    "\n",
    "3. V VIJAY KUMAR (ID: 2024AIML100)\n",
    "\n",
    "4. GADIGA MOUNESWAR BABU (ID: 2024AIML095)\n"
   ]
  },
  {
   "cell_type": "markdown",
   "metadata": {},
   "source": [
    "## Helmet Violation Detection from Indian CCTV Video\n",
    "\n",
    "**Problem statement:**\n",
    "    Detect and flag two-wheeler helmet violations (helmetless riding) from traffic camera frames in Indian cities in real-time.\n",
    "\n",
    "**Description:**\n",
    "Create a computer vision system using YOLOv8 and object tracking to detect two-wheeler riders and classify helmet usage. Optionally perform license plate OCR for enforcement.\n",
    "\n",
    "**Dataset:**\n",
    "\n",
    "    •\tIndian Helmet Detection Dataset\n",
    "    \n",
    "    •\tResearch-generated dataset of Indian two-wheeler violations (images+video with annotations for helmet & plate) \n",
    "\n",
    "   "
   ]
  },
  {
   "cell_type": "markdown",
   "metadata": {},
   "source": [
    "## Setup\n",
    "\n",
    "Import libraries:"
   ]
  },
  {
   "cell_type": "code",
   "execution_count": null,
   "metadata": {},
   "outputs": [],
   "source": [
    "!pip install opencv-python==4.9.0.80\n",
    "!pip install matplotlib==3.8.4\n",
    "!pip install numpy==1.26.4\n",
    "!pip install pillow==10.3.0\n",
    "!pip install pandas==2.2.2\n",
    "!pip install seaborn==0.13.2\n",
    "!pip install scikit-learn==1.4.2\n",
    "!pip install torch==2.3.0\n",
    "!pip install notebook==7.2.0\n",
    "!pip install albumentations==1.4.8\n",
    "!pip install albucore==0.0.16\n",
    "!pip install ultralytics==8.0.134\n",
    "!pip install --upgrade ultralytics torch"
   ]
  },
  {
   "cell_type": "code",
   "execution_count": null,
   "metadata": {},
   "outputs": [],
   "source": [
    "import sys\n",
    "import os\n",
    "import random\n",
    "import shutil\n",
    "import hashlib\n",
    "import warnings\n",
    "import numpy as np\n",
    "import cv2\n",
    "import matplotlib.pyplot as plt\n",
    "%matplotlib inline\n",
    "warnings.filterwarnings(\"ignore\")\n",
    "from PIL import Image, ImageDraw, ImageEnhance, ImageFilter\n",
    "import albumentations as A\n",
    "import glob\n",
    "import pandas as pd\n",
    "import seaborn as sns\n",
    "from itertools import combinations\n",
    "from sklearn.decomposition import PCA\n",
    "from sklearn.cluster import KMeans\n",
    "\n",
    "scripts_dir = os.path.abspath(os.path.join(os.getcwd(), '..', 'scripts'))\n",
    "sys.path.append(scripts_dir)\n",
    "for entry in os.listdir(scripts_dir):\n",
    "    entry_path = os.path.join(scripts_dir, entry)\n",
    "    if os.path.isdir(entry_path):\n",
    "        sys.path.append(entry_path)\n",
    "\n",
    "from utils import show_images_grid, split_and_copy_dataset, show_random_images_grid\n",
    "from flip import HorizontalFlip\n",
    "from zoom import DynamicZoomer\n",
    "from mosaic import MosaicAugmentor\n",
    "from cutout import CutoutAugmentor\n",
    "from synthetic import SyntheticImageAugmentor\n",
    "from edgedetect import EdgeDetectAugmentor\n",
    "from cutmix import CutMixAugmentor\n",
    "from rotate import RotateAugmentor\n",
    "from shadow import ShadowCastingAugmentor\n",
    "from grayscale import GrayscaleAugmentor\n",
    "from noise import NoiseInjectionAugmentor"
   ]
  },
  {
   "cell_type": "markdown",
   "metadata": {},
   "source": [
    "## Data Augmentation"
   ]
  },
  {
   "cell_type": "code",
   "execution_count": null,
   "metadata": {},
   "outputs": [],
   "source": [
    "image_folder = \"..\\\\data\\\\raw\\\\train\\\\images\"\n",
    "label_folder = \"..\\\\data\\\\raw\\\\train\\\\labels\"\n",
    "\n",
    "class_map = {\n",
    "    0: \"NumberPlate\",\n",
    "    1: \"Person\",\n",
    "    2: \"Helmet\",\n",
    "    3: \"Head\",\n",
    "    4: \"Motorbike\"\n",
    "}\n",
    "\n",
    "images = os.listdir(image_folder)\n",
    "labels = os.listdir(label_folder)\n",
    "\n",
    "\n",
    "print(\"Total images:\", len(images))\n",
    "print(\"Total label files:\", len(labels))\n",
    "print(\"Missing label files:\", set(os.path.splitext(i)[0] for i in images) - set(os.path.splitext(l)[0] for l in labels))\n"
   ]
  },
  {
   "cell_type": "markdown",
   "metadata": {},
   "source": [
    "## Geometric Transformations"
   ]
  },
  {
   "cell_type": "markdown",
   "metadata": {},
   "source": [
    "**Horizontal Flipping** – Simulates helmets from different directions.\n",
    "\n",
    "* Horizontal flip in data augmentation is a technique that mirrors images along the vertical axis (left to right). \n",
    "* It effectively creates a flipped version of each image, doubling the variety of orientations the model sees during training. \n",
    "* This simple transformation helps models learn that objects and features can appear in different left-right positions, improving their generalization and robustness.\n",
    "\n",
    "<b>Benefits:</b>\n",
    "\n",
    "* Horizontal flipping doubles the dataset size by creating mirrored versions of images.\n",
    "\n",
    "* Helps models generalize better by exposing them to left-right variations of objects, improving robustness, especially in tasks like object detection.\n",
    "\n",
    "* Ensures the bounding box labels remain accurate after flipping, which is critical for supervised learning correctness.\n",
    "\n",
    "* *his augmentation technique combats overfitting and enhances model performance on unseen test data by diversifying training examples."
   ]
  },
  {
   "cell_type": "code",
   "execution_count": null,
   "metadata": {},
   "outputs": [],
   "source": [
    "flip_image_folder = '..\\\\data\\\\processed\\\\train-flip\\\\images'\n",
    "flip_label_folder = '..\\\\data\\\\processed\\\\train-flip\\\\labels'\n",
    "\n",
    "flipper = HorizontalFlip(image_folder, label_folder, flip_image_folder, flip_label_folder)\n",
    "flipper.process()\n"
   ]
  },
  {
   "cell_type": "code",
   "execution_count": null,
   "metadata": {},
   "outputs": [],
   "source": [
    "show_images_grid(\n",
    "            [image_folder, flip_image_folder],\n",
    "            [label_folder, flip_label_folder],\n",
    "            ['013_16_jpeg.rf.cc06dc94c659d717549dc88f601c9ff1.jpg','013_16_jpeg.rf.cc06dc94c659d717549dc88f601c9ff1_flip.jpg'],\n",
    "            class_map=class_map\n",
    "        )"
   ]
  },
  {
   "cell_type": "code",
   "execution_count": null,
   "metadata": {},
   "outputs": [],
   "source": [
    "show_random_images_grid(flip_image_folder, flip_label_folder, class_map, N=6)"
   ]
  },
  {
   "cell_type": "markdown",
   "metadata": {},
   "source": [
    "**Scaling/Zooming** – Randomly zoom in to focus on object of interest in the frame.\n",
    "\n",
    "* Image zoom augmentation randomly scales in on the image, cropping and resizing it back to the original size.\n",
    "* This simulates objects appearing larger or closer, helping the model learn to detect helmets and motorbikes at different scales and distances.\n",
    "* It improves robustness to camera zoom and real-world variations in object size.\n",
    "\n",
    "<b>Benefits:</b>\n",
    "\n",
    "* Focuses Training on Relevant Objects:\n",
    "By zooming in tightly on objects (e.g., helmets), the model sees them larger and in more detail, which can improve detection accuracy, especially for small objects.\n",
    "\n",
    "* Increases Variation in Scale:\n",
    "Varying zoom levels mimic real-world scenarios where objects may be closer or farther.\n",
    "\n",
    "* Augments Dataset Without Changing Image Size:\n",
    "Keeps input size consistent with model expectations but changes spatial content.\n",
    "\n",
    "* Improves Model Robustness to Object Size Variability:\n",
    "Helps the model learn to detect objects at different scales and reduces bias toward object size distribution in original data."
   ]
  },
  {
   "cell_type": "code",
   "execution_count": null,
   "metadata": {},
   "outputs": [],
   "source": [
    "zoomed_image_folder = '..\\\\data\\\\processed\\\\train-zoom\\\\images'\n",
    "zoomed_label_folder = '..\\\\data\\\\processed\\\\train-zoom\\\\labels'\n",
    "\n",
    "zoomer = DynamicZoomer(image_folder, label_folder, zoomed_image_folder, zoomed_label_folder)\n",
    "zoomer.process()"
   ]
  },
  {
   "cell_type": "code",
   "execution_count": null,
   "metadata": {},
   "outputs": [],
   "source": [
    "show_images_grid(\n",
    "            [image_folder, zoomed_image_folder],\n",
    "            [label_folder, zoomed_label_folder],\n",
    "            ['013_48_jpeg.rf.dee0ddaded9e687ea455ad1ddb14d7fc.jpg','013_48_jpeg.rf.dee0ddaded9e687ea455ad1ddb14d7fc_zoom.jpg'],\n",
    "            class_map=class_map\n",
    "        )"
   ]
  },
  {
   "cell_type": "code",
   "execution_count": null,
   "metadata": {},
   "outputs": [],
   "source": [
    "show_random_images_grid(zoomed_image_folder, zoomed_label_folder, class_map, N=6)"
   ]
  },
  {
   "cell_type": "markdown",
   "metadata": {},
   "source": [
    "**Rotation Data Augmentation** – Rotates images and their bounding boxes by a random angle (e.g., ±10–30 degrees). \n",
    "\n",
    "* This technique helps the model become invariant to the orientation of objects, simulating real-world scenarios where two-wheelers and helmets may not always appear perfectly upright in the frame. \n",
    "* Rotation augmentation improves robustness to camera tilt, road slope, and diverse viewpoints, leading to better generalization on unseen data.\n",
    "\n",
    "<b>Benefits:</b>\n",
    "\n",
    "Rotation simulates viewpoint changes and varied camera angles, increasing model robustness to object orientation variance.\n",
    "\n",
    "* Albumentations handles proper geometric transformation of bounding boxes, preventing label mismatch.\n",
    "\n",
    "* Controlled rotation angles prevent unrealistic large rotations that would harm training.\n",
    "\n",
    "* Filling borders with a neutral color avoids visual artifacts near image edges.\n",
    "\n",
    "* Augmented data help models generalize better in real-world scenarios where objects/domain may be rotated."
   ]
  },
  {
   "cell_type": "code",
   "execution_count": null,
   "metadata": {},
   "outputs": [],
   "source": [
    "rotation_image_folder = '..\\\\data\\\\processed\\\\train-rotation\\\\images'     # Directory to save cutout images\n",
    "rotation_label_folder = '..\\\\data\\\\processed\\\\train-rotation\\\\labels'  # Directory to save cutout labels\n",
    "\n",
    "rotate_augmentor = RotateAugmentor(image_folder, label_folder, rotation_image_folder, rotation_label_folder)\n",
    "rotate_augmentor.process()"
   ]
  },
  {
   "cell_type": "code",
   "execution_count": null,
   "metadata": {},
   "outputs": [],
   "source": [
    "show_random_images_grid(rotation_image_folder, rotation_label_folder, class_map, N=6)"
   ]
  },
  {
   "cell_type": "code",
   "execution_count": null,
   "metadata": {},
   "outputs": [],
   "source": [
    "show_images_grid(\n",
    "            [image_folder, rotation_image_folder],\n",
    "            [label_folder, rotation_label_folder],\n",
    "            ['013_16_jpeg.rf.cc06dc94c659d717549dc88f601c9ff1.jpg','013_16_jpeg.rf.cc06dc94c659d717549dc88f601c9ff1_rotation.jpg'],\n",
    "            class_map=class_map\n",
    "        )"
   ]
  },
  {
   "cell_type": "markdown",
   "metadata": {},
   "source": [
    "## Bounding Box–Specific Techniques"
   ]
  },
  {
   "cell_type": "markdown",
   "metadata": {},
   "source": [
    "**Mosaic Augmentation** – Mosaic augmentation combines four different images into one by stitching them together in a grid.\n",
    "\n",
    "* This technique increases dataset diversity, helps the model learn to detect small objects, and improves robustness to varied object scales and contexts.\n",
    "\n",
    "<b>Benefits:</b>\n",
    "* Combines Multiple Contexts:\n",
    "Mosaic augmentation merges four different scenes into one image, increasing contextual diversity and object co-occurrence variety.\n",
    "\n",
    "* Improves Small Object Detection:\n",
    "Resizing and grouping multiple images allows models to see varying object scales and densities.\n",
    "\n",
    "* Increases Dataset Variety:\n",
    "Creates many novel combinations from existing data, boosting effective dataset size without new data collection.\n",
    "\n",
    "* Helps Models Generalize:\n",
    "Exposes models to crowded or complex scenes, better preparing for real-world variability, especially useful in object detection tasks like helmet or number plate detection."
   ]
  },
  {
   "cell_type": "code",
   "execution_count": null,
   "metadata": {},
   "outputs": [],
   "source": [
    "mosaic_image_folder = '..\\\\data\\\\processed\\\\train-mosaic\\\\images'     # Directory to save mirrored images\n",
    "mosaic_label_folder = '..\\\\data\\\\processed\\\\train-mosaic\\\\labels'  # Directory to save updated labels\n",
    "\n",
    "mosaic_augmentor = MosaicAugmentor(image_folder, label_folder, mosaic_image_folder, mosaic_label_folder)\n",
    "mosaic_augmentor.process()"
   ]
  },
  {
   "cell_type": "code",
   "execution_count": null,
   "metadata": {},
   "outputs": [],
   "source": [
    "show_random_images_grid(mosaic_image_folder, mosaic_label_folder, class_map, N=6)"
   ]
  },
  {
   "cell_type": "markdown",
   "metadata": {},
   "source": [
    "**CutMix Augmentation** – CutMix augmentation creates new training samples by cutting a patch from one image and pasting it onto another, while updating the bounding boxes accordingly. \n",
    "\n",
    "* This technique helps improve model robustness by exposing it to mixed-context images and encourages better generalization to occlusions and varied object arrangements.\n",
    "\n",
    "<b>Benefits:</b>\n",
    "* Increases Data Diversity:\n",
    "Creates composite training samples by blending content from two images, enriching variability without collecting new data.\n",
    "\n",
    "* Improves Robustness to Occlusion:\n",
    "Simulates occlusions by partially replacing image areas with different objects/scenes, helping the model handle occluded or mixed environments.\n",
    "\n",
    "* Enhances Learning of Multiple Object Contexts:\n",
    "Mixes objects from two scenes, encouraging more generalizable feature representations.\n",
    "\n",
    "* Balances Class Distribution:\n",
    "Can increase examples of underrepresented classes by choosing pairs intelligently."
   ]
  },
  {
   "cell_type": "code",
   "execution_count": null,
   "metadata": {},
   "outputs": [],
   "source": [
    "cutmix_image_folder = '..\\\\data\\\\processed\\\\train-cutmix\\\\images'     # Directory to save cutout images\n",
    "cutmix_label_folder = '..\\\\data\\\\processed\\\\train-cutmix\\\\labels'  # Directory to save cutout labels\n",
    "\n",
    "cutmix_augmentor = CutMixAugmentor(image_folder, label_folder, cutmix_image_folder, cutmix_label_folder)\n",
    "cutmix_augmentor.process()"
   ]
  },
  {
   "cell_type": "code",
   "execution_count": null,
   "metadata": {},
   "outputs": [],
   "source": [
    "show_random_images_grid(cutmix_image_folder, cutmix_label_folder, class_map, N=6)"
   ]
  },
  {
   "cell_type": "markdown",
   "metadata": {},
   "source": [
    "**Cutout/Random Erasing** – Randomly mask parts of helmets or background for occlusion robustness.\n",
    "\n",
    "* Cutout data augmentation is a technique that randomly masks out (removes) a contiguous square region of an input image during training. \n",
    "* This masks a portion of the visual data, forcing the model to rely on less obvious or less prominent features to correctly recognize objects. By doing so, it improves the model's robustness to partial occlusions and over-reliance on specific image details.\n",
    "\n",
    "<b>Benefits:</b>\n",
    "* Increases Robustness to Occlusion:\n",
    "Models learn to recognize objects despite missing or blocked parts by exposing them to images with random black regions.\n",
    "\n",
    "* Reduces Overfitting:\n",
    "By forcing reliance on multiple cues, the model generalizes better to unseen and partially occluded objects.\n",
    "\n",
    "* Easy to Implement and Efficient:\n",
    "Cutout is computationally inexpensive and can be applied online during training or preprocessing.\n",
    "\n",
    "* Improves Performance in Object Detection and Classification:\n",
    "Especially effective for scenarios where objects may be partially obstructed or appear in cluttered scenes."
   ]
  },
  {
   "cell_type": "code",
   "execution_count": null,
   "metadata": {},
   "outputs": [],
   "source": [
    "cutout_image_folder = '..\\\\data\\\\processed\\\\train-cutout\\\\images'     # Directory to save cutout images\n",
    "cutout_label_folder = '..\\\\data\\\\processed\\\\train-cutout\\\\labels'  # Directory to save cutout labels\n",
    "\n",
    "cutout_augmentor = CutoutAugmentor(image_folder, label_folder, cutout_image_folder, cutout_label_folder)\n",
    "cutout_augmentor.process()"
   ]
  },
  {
   "cell_type": "code",
   "execution_count": null,
   "metadata": {},
   "outputs": [],
   "source": [
    "show_random_images_grid(cutout_image_folder, cutout_label_folder, class_map, N=6)"
   ]
  },
  {
   "cell_type": "markdown",
   "metadata": {},
   "source": [
    "## Environmental Simulations"
   ]
  },
  {
   "cell_type": "markdown",
   "metadata": {},
   "source": [
    "**Synthetic Data Augmentation Techniques:**\n",
    "\n",
    "- **Fog Simulation:** Adds artificial fog or haze to images, mimicking low-visibility conditions. This helps the model learn to detect objects in adverse weather, improving robustness to real-world foggy scenes.\n",
    "\n",
    "- **Rain Simulation:** Overlays rain streaks or droplets onto images, simulating rainy weather. This augmentation teaches the model to recognize helmets and vehicles even when visibility is reduced by rain.\n",
    "\n",
    "- **Blur Augmentation:** Applies motion blur or defocus blur to images, replicating camera shake or out-of-focus scenarios. This helps the model handle blurry frames from CCTV footage or fast-moving vehicles.\n",
    "\n",
    "- **Illumination Variation:** Adjusts brightness to simulate different lighting condition. This ensures the model is robust to varying illumination and can generalize across different times of day and lighting environments."
   ]
  },
  {
   "cell_type": "code",
   "execution_count": null,
   "metadata": {},
   "outputs": [],
   "source": [
    "synthetic_image_folder = '..\\\\data\\\\processed\\\\train-synthetic\\\\images'     # Directory to save cutout images\n",
    "synthetic_label_folder = '..\\\\data\\\\processed\\\\train-synthetic\\\\labels'  # Directory to save cutout labels\n",
    "\n",
    "synthetic_augmentor = SyntheticImageAugmentor(image_folder, label_folder, synthetic_image_folder, synthetic_label_folder)\n",
    "synthetic_augmentor.process()"
   ]
  },
  {
   "cell_type": "code",
   "execution_count": null,
   "metadata": {},
   "outputs": [],
   "source": [
    "show_random_images_grid(synthetic_image_folder, synthetic_label_folder, class_map, N=6)"
   ]
  },
  {
   "cell_type": "markdown",
   "metadata": {},
   "source": [
    "**Shadow Augmentation:** Adds synthetic shadows to simulate real-world conditions (vehicles passing next to flyover, under the foot over bridges)\n",
    "\n",
    "* It involves overlaying artificial shadows onto images to simulate real-world lighting conditions and occlusions. \n",
    "* This technique helps computer vision models, such as object detectors, learn to recognize and localize objects even when parts of the scene are darkened or partially obscured by shadows. \n",
    "* By introducing varying shapes, positions, and intensities of shadows, shadow augmentation improves a model's robustness to lighting variability and partial object occlusion, which are common challenges in real-world environments.\n",
    "\n",
    "<b>Benefits:</b>\n",
    "* Simulates Realistic Environmental Shadows:\n",
    "Shadows frequently occur in outdoor scenes (e.g., streets, vehicles); augmenting images with shadows enhances model robustness to illumination variability.\n",
    "\n",
    "* Improves Generalization:\n",
    "Helps models learn invariant representations despite partial shadow occlusion of objects, reducing false negatives.\n",
    "\n",
    "* Adds Lighting Diversity Without Geometric Changes:\n",
    "Shadows alter pixel intensities without modifying spatial layout; labels remain valid.\n",
    "\n",
    "* Enhances Dataset Variability at Low Cost:\n",
    "Shadows are easy to generate programmatically by polygon overlays with varied shapes and intensities."
   ]
  },
  {
   "cell_type": "code",
   "execution_count": null,
   "metadata": {},
   "outputs": [],
   "source": [
    "shadow_image_folder = '..\\\\data\\\\processed\\\\train-shadow\\\\images'     # Directory to save cutout images\n",
    "shadow_label_folder = '..\\\\data\\\\processed\\\\train-shadow\\\\labels'  # Directory to save cutout labels\n",
    "\n",
    "shadow_augmentor = ShadowCastingAugmentor(image_folder, label_folder, shadow_image_folder, shadow_label_folder)\n",
    "shadow_augmentor.process()\n"
   ]
  },
  {
   "cell_type": "code",
   "execution_count": null,
   "metadata": {},
   "outputs": [],
   "source": [
    "show_random_images_grid(shadow_image_folder, shadow_label_folder, class_map, N=6)"
   ]
  },
  {
   "cell_type": "markdown",
   "metadata": {},
   "source": [
    "## Photometric Augmentations"
   ]
  },
  {
   "cell_type": "markdown",
   "metadata": {},
   "source": [
    "**Edge Detection:** Highlights object boundaries and textures by converting images into edges\n",
    "\n",
    "* Edge detection in data augmentation is the process of transforming images by highlighting their boundaries and shape outlines using algorithms like Sobel or Canny filters. \n",
    "* This technique enriches the dataset with edge-enhanced images, helping models focus on the contours and structural features of objects rather than textures or colors. \n",
    "* Edge-based augmentation encourages the model to learn shape cues, improving its robustness to variations, occlusions, and noise, and is particularly valuable for tasks that depend on accurate object localization and boundary recognition."
   ]
  },
  {
   "cell_type": "code",
   "execution_count": null,
   "metadata": {},
   "outputs": [],
   "source": [
    "edge_image_folder = '..\\\\data\\\\processed\\\\train-edge\\\\images'     # Directory to save cutout images\n",
    "edge_label_folder = '..\\\\data\\\\processed\\\\train-edge\\\\labels'  # Directory to save cutout labels\n",
    "\n",
    "edge_augmentor = EdgeDetectAugmentor(image_folder, label_folder, edge_image_folder, edge_label_folder)\n",
    "edge_augmentor.process()"
   ]
  },
  {
   "cell_type": "code",
   "execution_count": null,
   "metadata": {},
   "outputs": [],
   "source": [
    "show_random_images_grid(edge_image_folder, edge_label_folder, class_map, N=6)"
   ]
  },
  {
   "cell_type": "markdown",
   "metadata": {},
   "source": [
    "**Greyscale Conversion:** Color transformation - removes color information, keeping only intensity\n",
    "\n",
    "* It refers to converting color images to greyscale as part of the training process. \n",
    "* This technique encourages models to focus on texture, shape, and structural features rather than color information. \n",
    "* By exposing models to greyscale versions of images, it enhances robustness against varying lighting conditions and color distortions, helping the model perform better when color cues are unreliable or missing.\n",
    "\n",
    "<b>Benefits</b>\n",
    "* Simulates Variations in Illumination and Color:\n",
    "Training on grayscale images forces models to rely more on texture, shape, and edge information, improving generalization when color cues are unavailable or misleading.\n",
    "\n",
    "* Improves Robustness Across Domains:\n",
    "Models become less sensitive to color distribution bias, helpful in scenarios where input images vary widely in color characteristics (e.g., night/day or different cameras).\n",
    "\n",
    "* Simple yet Effective Augmentation:\n",
    "Grayscale conversion is computationally efficient and easy to apply as a part of broader augmentation pipelines."
   ]
  },
  {
   "cell_type": "code",
   "execution_count": null,
   "metadata": {},
   "outputs": [],
   "source": [
    "grayscale_image_folder = '..\\\\data\\\\processed\\\\train-grayscale\\\\images'     # Directory to save cutout images\n",
    "grayscale_label_folder = '..\\\\data\\\\processed\\\\train-grayscale\\\\labels'  # Directory to save cutout labels\n",
    "\n",
    "grayscale_augmentor = GrayscaleAugmentor(image_folder, label_folder, grayscale_image_folder, grayscale_label_folder)\n",
    "grayscale_augmentor.process()"
   ]
  },
  {
   "cell_type": "code",
   "execution_count": null,
   "metadata": {},
   "outputs": [],
   "source": [
    "show_random_images_grid(grayscale_image_folder, grayscale_label_folder, class_map, N=6)"
   ]
  },
  {
   "cell_type": "markdown",
   "metadata": {},
   "source": [
    "**Noise Augmentation:** Random noise is deliberately added to training data \n",
    "\n",
    "* Gaussian noise augmentation introduces random variations in pixel intensity following a normal distribution, which simulates sensor or environmental noise. \n",
    "* Salt and pepper noise augmentation randomly sets some pixels to black or white, mimicking impulse noise found in low-quality or corrupted images. \n",
    "* Both techniques help models become more robust to noisy, low-quality, or imperfect real-world data by training them on visually challenging samples, making predictions more reliable under non-ideal imaging conditions.\n",
    "\n",
    "<b>Benefits:</b>\n",
    "* Simulates Realistic Sensor Noise:\n",
    "Noise injection mimics common real-world artifacts like sensor noise, low light grain, or transmission errors, making models robust to noisy inputs.\n",
    "\n",
    "* Improves Model Generalization:\n",
    "Forces models to learn more discriminative features by reducing reliance on exact pixel patterns corrupted by noise.\n",
    "\n",
    "* Encourages Robust Feature Extraction:\n",
    "Models trained on noisy data handle noisy or corrupted images better during inference.\n",
    "\n",
    "* Simple and Fast to Implement:\n",
    "Adds minimal computational overhead and can be used as an offline or online augmentation."
   ]
  },
  {
   "cell_type": "code",
   "execution_count": null,
   "metadata": {},
   "outputs": [],
   "source": [
    "gaussian_image_folder = '..\\\\data\\\\processed\\\\train-gaussian\\\\images'     # Directory to save cutout images\n",
    "gaussian_label_folder = '..\\\\data\\\\processed\\\\train-gaussian\\\\labels'  # Directory to save cutout labels\n",
    "\n",
    "gaussian_noise_augmentor = NoiseInjectionAugmentor(image_folder, label_folder, gaussian_image_folder, gaussian_label_folder, noise_type='gaussian')\n",
    "gaussian_noise_augmentor.process()\n",
    "\n",
    "salt_pepper_image_folder = '..\\\\data\\\\processed\\\\train-salt_pepper\\\\images'     # Directory to save cutout images\n",
    "salt_pepper_label_folder = '..\\\\data\\\\processed\\\\train-salt_pepper\\\\labels'  # Directory to save cutout labels\n",
    "\n",
    "salt_pepper_noise_augmentor = NoiseInjectionAugmentor(image_folder, label_folder, salt_pepper_image_folder, salt_pepper_label_folder, noise_type='salt_pepper')\n",
    "salt_pepper_noise_augmentor.process()"
   ]
  },
  {
   "cell_type": "code",
   "execution_count": null,
   "metadata": {},
   "outputs": [],
   "source": [
    "show_random_images_grid(gaussian_image_folder, gaussian_label_folder, class_map, N=6)"
   ]
  },
  {
   "cell_type": "code",
   "execution_count": null,
   "metadata": {},
   "outputs": [],
   "source": [
    "show_random_images_grid(salt_pepper_image_folder, salt_pepper_label_folder, class_map, N=6)"
   ]
  }
 ],
 "metadata": {
  "kernelspec": {
   "display_name": "Python 3",
   "language": "python",
   "name": "python3"
  },
  "language_info": {
   "codemirror_mode": {
    "name": "ipython",
    "version": 3
   },
   "file_extension": ".py",
   "mimetype": "text/x-python",
   "name": "python",
   "nbconvert_exporter": "python",
   "pygments_lexer": "ipython3",
   "version": "3.12.3"
  },
  "widgets": {
   "state": {},
   "version": "1.1.2"
  }
 },
 "nbformat": 4,
 "nbformat_minor": 4
}
